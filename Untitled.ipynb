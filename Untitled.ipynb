{
 "cells": [
  {
   "cell_type": "code",
   "execution_count": 3,
   "id": "1580b367-38e9-4577-9959-58bc1255cb04",
   "metadata": {},
   "outputs": [
    {
     "ename": "SyntaxError",
     "evalue": "expression cannot contain assignment, perhaps you meant \"==\"? (2049099006.py, line 13)",
     "output_type": "error",
     "traceback": [
      "\u001b[1;36m  Input \u001b[1;32mIn [3]\u001b[1;36m\u001b[0m\n\u001b[1;33m    btn = Button(tk.text = 'Clique aqui', comando = hello )\u001b[0m\n\u001b[1;37m                 ^\u001b[0m\n\u001b[1;31mSyntaxError\u001b[0m\u001b[1;31m:\u001b[0m expression cannot contain assignment, perhaps you meant \"==\"?\n"
     ]
    }
   ],
   "source": [
    "#Importando o Tkinter\n",
    "from tkinter import *\n",
    "from tkinter import ttk\n",
    "\n",
    "#Criando a interface \n",
    "\n",
    "def hello(): \n",
    "  print('Hello word')\n",
    "\n",
    "  from tkinter import*\n",
    "  tk = TK()\n",
    "\n",
    "  btn = Button(tk.text = 'Clique aqui', comando = hello )\n",
    "  ptn.pack()\n"
   ]
  },
  {
   "cell_type": "code",
   "execution_count": 4,
   "id": "cc0a600d-9a05-4e35-8de3-b93ea10f6634",
   "metadata": {},
   "outputs": [
    {
     "ename": "SyntaxError",
     "evalue": "expression cannot contain assignment, perhaps you meant \"==\"? (2049099006.py, line 13)",
     "output_type": "error",
     "traceback": [
      "\u001b[1;36m  Input \u001b[1;32mIn [4]\u001b[1;36m\u001b[0m\n\u001b[1;33m    btn = Button(tk.text = 'Clique aqui', comando = hello )\u001b[0m\n\u001b[1;37m                 ^\u001b[0m\n\u001b[1;31mSyntaxError\u001b[0m\u001b[1;31m:\u001b[0m expression cannot contain assignment, perhaps you meant \"==\"?\n"
     ]
    }
   ],
   "source": [
    "#Importando o Tkinter\n",
    "from tkinter import *\n",
    "from tkinter import ttk\n",
    "\n",
    "#Criando a interface \n",
    "\n",
    "def hello(): \n",
    "  print('Hello word')\n",
    "\n",
    "  from tkinter import*\n",
    "  tk = TK()\n",
    "\n",
    "  btn = Button(tk.text = 'Clique aqui', comando = hello )\n",
    "  ptn.pack()\n"
   ]
  },
  {
   "cell_type": "code",
   "execution_count": null,
   "id": "b5a53c36-c3ee-45bc-bc1d-315e4af5db15",
   "metadata": {},
   "outputs": [],
   "source": []
  }
 ],
 "metadata": {
  "kernelspec": {
   "display_name": "Python 3 (ipykernel)",
   "language": "python",
   "name": "python3"
  },
  "language_info": {
   "codemirror_mode": {
    "name": "ipython",
    "version": 3
   },
   "file_extension": ".py",
   "mimetype": "text/x-python",
   "name": "python",
   "nbconvert_exporter": "python",
   "pygments_lexer": "ipython3",
   "version": "3.9.12"
  }
 },
 "nbformat": 4,
 "nbformat_minor": 5
}
